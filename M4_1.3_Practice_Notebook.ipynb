{
 "cells": [
  {
   "cell_type": "markdown",
   "metadata": {},
   "source": [
    "# Practice 1\n",
    "\n",
    "Run the following code cells. \n"
   ]
  },
  {
   "cell_type": "code",
   "execution_count": null,
   "metadata": {},
   "outputs": [],
   "source": [
    "from matplotlib.pyplot import bar\n",
    "x = [1,2,3,4]\n",
    "y = [2,4,8,16]\n",
    "bar(x,y);\n"
   ]
  },
  {
   "cell_type": "markdown",
   "metadata": {},
   "source": [
    "# Practice 2\n"
   ]
  },
  {
   "cell_type": "markdown",
   "metadata": {},
   "source": [
    "We can create a scatter plot by importing the “scatter” submodule instead. We also pass x and y parameters. The x values will be mapped along the x axis, and y values along the y axis. The bar commands take those values in that order. Run the code below to create a scatter plot."
   ]
  },
  {
   "cell_type": "code",
   "execution_count": null,
   "metadata": {},
   "outputs": [],
   "source": [
    "from matplotlib.pyplot import scatter\n",
    "x = [1,2,3,4]\n",
    "y = [2,4,8,16]\n",
    "scatter(x,y);\n"
   ]
  },
  {
   "cell_type": "markdown",
   "metadata": {},
   "source": [
    "# Practice 3\n"
   ]
  },
  {
   "cell_type": "markdown",
   "metadata": {},
   "source": [
    "We will follow a similar approach to create a line plot. Run the code below to create a line plot."
   ]
  },
  {
   "cell_type": "code",
   "execution_count": null,
   "metadata": {},
   "outputs": [],
   "source": [
    "from matplotlib.pyplot import plot\n",
    "x = [1,2,3,4]\n",
    "y = [2,4,8,16]\n",
    "plot(x,y);\n"
   ]
  },
  {
   "cell_type": "markdown",
   "metadata": {},
   "source": [
    "# Practice 4"
   ]
  },
  {
   "cell_type": "code",
   "execution_count": null,
   "metadata": {},
   "outputs": [],
   "source": [
    "from matplotlib.pyplot import pie\n",
    "x = [1,2,3,4]\n",
    "y = [2,4,8,16]\n",
    "pie(x);\n"
   ]
  },
  {
   "cell_type": "markdown",
   "metadata": {},
   "source": [
    "# Practice 5"
   ]
  },
  {
   "cell_type": "markdown",
   "metadata": {},
   "source": [
    "Let’s create a box plot next. We will pass a different set of x and y values - to learn more about what box plots represent, visit this link https://towardsdatascience.com/understanding-boxplots-5e2df7bcbd51\n"
   ]
  },
  {
   "cell_type": "code",
   "execution_count": null,
   "metadata": {},
   "outputs": [],
   "source": [
    "from matplotlib.pyplot import boxplot\n",
    "x = [2,1,2,3,4,4,4,4,4,4,1,2,4,5,6,4,2,0]\n",
    "y = [1,1,1,3,4,1,4,1,2,4,1,2,4,5,6,4,2,0]\n",
    "boxplot([x,y],labels=[\"X\",\"Y\"]);\n"
   ]
  },
  {
   "attachments": {
    "Return-to-course.png": {
     "image/png": "[encoded data removed]"
    }
   },
   "cell_type": "markdown",
   "metadata": {},
   "source": [
    "![Return-to-course.png](attachment:Return-to-course.png)"
   ]
  }
 ],
 "metadata": {
  "kernelspec": {
   "display_name": "Python 3",
   "language": "python",
   "name": "python3"
  },
  "language_info": {
   "codemirror_mode": {
    "name": "ipython",
    "version": 3
   },
   "file_extension": ".py",
   "mimetype": "text/x-python",
   "name": "python",
   "nbconvert_exporter": "python",
   "pygments_lexer": "ipython3",
   "version": "3.7.4"
  }
 },
 "nbformat": 4,
 "nbformat_minor": 4
}
